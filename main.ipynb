{
 "cells": [
  {
   "cell_type": "code",
   "execution_count": 18,
   "metadata": {},
   "outputs": [
    {
     "data": {
      "application/vnd.jupyter.widget-view+json": {
       "model_id": "7256ab2f548a4257a54c36b7d4df3fdf",
       "version_major": 2,
       "version_minor": 0
      },
      "text/plain": [
       "Canvas(height=105, width=150)"
      ]
     },
     "metadata": {},
     "output_type": "display_data"
    },
    {
     "ename": "TypeError",
     "evalue": "Celle.tegn() missing 3 required positional arguments: 'canvas', 'tile_size', and 'rect_size'",
     "output_type": "error",
     "traceback": [
      "\u001b[1;31m---------------------------------------------------------------------------\u001b[0m",
      "\u001b[1;31mTypeError\u001b[0m                                 Traceback (most recent call last)",
      "Cell \u001b[1;32mIn[18], line 58\u001b[0m\n\u001b[0;32m     56\u001b[0m draw_world()\n\u001b[0;32m     57\u001b[0m \u001b[38;5;28;01mfor\u001b[39;00m cell \u001b[38;5;129;01min\u001b[39;00m cells:\n\u001b[1;32m---> 58\u001b[0m     \u001b[43mcell\u001b[49m\u001b[38;5;241;43m.\u001b[39;49m\u001b[43mtegn\u001b[49m\u001b[43m(\u001b[49m\u001b[43m)\u001b[49m\n",
      "\u001b[1;31mTypeError\u001b[0m: Celle.tegn() missing 3 required positional arguments: 'canvas', 'tile_size', and 'rect_size'"
     ]
    }
   ],
   "source": [
    "from ipycanvas import Canvas, hold_canvas\n",
    "from Klasser.celle import *\n",
    "import random\n",
    "\n",
    "\n",
    "# visual size of tiles\n",
    "tile_size = 15\n",
    "visual_space = 2\n",
    "rect_size = tile_size - visual_space\n",
    "\n",
    "# amount of tiles in each direction\n",
    "tiles_hori = 10\n",
    "tiles_vert = 7\n",
    "\n",
    "antal_celler  = 7\n",
    "start_energi = 10\n",
    "\n",
    "# List to contain the cell objects\n",
    "cells = []\n",
    "\n",
    "# Create empty world, to contain references to cells\n",
    "verd = []\n",
    "for x in range(tiles_hori):\n",
    "    row = []\n",
    "    for y in range(tiles_vert):\n",
    "        row.append(None)\n",
    "    verd.append(row)\n",
    "\n",
    "# Populate world\n",
    "for i in range(0, antal_celler):\n",
    "    x = random.randint(0, tiles_hori - 1)\n",
    "    y = random.randint(0, tiles_vert - 1)\n",
    "    while verd[x][y] != None and verd:\n",
    "        x = random.randint(0, tiles_hori - 1)\n",
    "        y = random.randint(0, tiles_vert - 1)\n",
    "    new_cell = Celle(x, y, start_energi, [])\n",
    "    cells.append(new_cell)\n",
    "    verd[x][y] = len(cells) - 1\n",
    "\n",
    "# Canvas size\n",
    "width = tile_size * tiles_hori\n",
    "height = tile_size * tiles_vert\n",
    "\n",
    "canvas = Canvas(height = height, width = width)\n",
    "display(canvas)\n",
    "\n",
    "def draw_world():\n",
    "    # Draw grid\n",
    "    canvas.fill_style = \"gray\"\n",
    "    for x in range(tiles_hori):\n",
    "        for y in range(tiles_vert):\n",
    "            canvas.fill_rect(x * tile_size, y * tile_size, rect_size, rect_size)\n",
    "\n",
    "\n",
    "with hold_canvas():\n",
    "    draw_world()\n",
    "    for cell in cells:\n",
    "        cell.tegn(canvas, tile_size, rect_size)"
   ]
  }
 ],
 "metadata": {
  "kernelspec": {
   "display_name": "Python 3",
   "language": "python",
   "name": "python3"
  },
  "language_info": {
   "codemirror_mode": {
    "name": "ipython",
    "version": 3
   },
   "file_extension": ".py",
   "mimetype": "text/x-python",
   "name": "python",
   "nbconvert_exporter": "python",
   "pygments_lexer": "ipython3",
   "version": "3.10.11"
  }
 },
 "nbformat": 4,
 "nbformat_minor": 2
}
