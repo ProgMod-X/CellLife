{
 "cells": [
  {
   "cell_type": "code",
   "execution_count": 2,
   "metadata": {},
   "outputs": [
    {
     "data": {
      "application/vnd.jupyter.widget-view+json": {
       "model_id": "778d31d4a8354b60a978770730a5b22a",
       "version_major": 2,
       "version_minor": 0
      },
      "text/plain": [
       "Canvas(height=105, width=150)"
      ]
     },
     "metadata": {},
     "output_type": "display_data"
    }
   ],
   "source": [
    "from ipycanvas import Canvas, hold_canvas\n",
    "from Klasser.celle import *\n",
    "\n",
    "# visual size of tiles\n",
    "tile_size = 15\n",
    "visual_space = 2\n",
    "rect_size = tile_size - visual_space\n",
    "\n",
    "# amount of tiles in each direction\n",
    "tiles_hori = 10\n",
    "tiles_vert = 7\n",
    "\n",
    "# Canvas size\n",
    "width = tile_size * tiles_hori\n",
    "height = tile_size * tiles_vert\n",
    "\n",
    "canvas = Canvas(height = height, width = width)\n",
    "display(canvas)\n",
    "\n",
    "def draw_world():\n",
    "    # Draw grid\n",
    "    canvas.fill_style = \"gray\"\n",
    "    for x in range(tiles_hori):\n",
    "        for y in range(tiles_vert):\n",
    "            canvas.fill_rect(x * tile_size, y * tile_size, rect_size, rect_size)\n",
    "\n",
    "\n",
    "with hold_canvas():\n",
    "    draw_world()\n"
   ]
  }
 ],
 "metadata": {
  "kernelspec": {
   "display_name": "Python 3",
   "language": "python",
   "name": "python3"
  },
  "language_info": {
   "codemirror_mode": {
    "name": "ipython",
    "version": 3
   },
   "file_extension": ".py",
   "mimetype": "text/x-python",
   "name": "python",
   "nbconvert_exporter": "python",
   "pygments_lexer": "ipython3",
   "version": "3.10.11"
  }
 },
 "nbformat": 4,
 "nbformat_minor": 2
}
