{
 "cells": [
  {
   "cell_type": "code",
   "execution_count": 9,
   "metadata": {},
   "outputs": [
    {
     "data": {
      "application/vnd.jupyter.widget-view+json": {
       "model_id": "3906bc89cccf48dda27e553b70f88179",
       "version_major": 2,
       "version_minor": 0
      },
      "text/plain": [
       "Canvas(height=105, width=150)"
      ]
     },
     "metadata": {},
     "output_type": "display_data"
    }
   ],
   "source": [
    "from ipycanvas import Canvas, hold_canvas\n",
    "\n",
    "tile_size = 15\n",
    "visual_space = 2\n",
    "tiles_hor = 10\n",
    "tiles_vert = 7\n",
    "width = tile_size * tiles_hor\n",
    "height = tile_size * tiles_vert\n",
    "canvas = Canvas(height = height, width = width)\n",
    "display(canvas)\n",
    "\n",
    "def draw_world():\n",
    "    # Draw grid\n",
    "    for x in range(tiles_hor):\n",
    "        for y in range(tiles_vert):\n",
    "            rect_size = tile_size - visual_space\n",
    "            canvas.fill_rect(x * tile_size, y * tile_size, rect_size, rect_size)\n",
    "\n",
    "with hold_canvas():\n",
    "    draw_world()"
   ]
  }
 ],
 "metadata": {
  "kernelspec": {
   "display_name": "Python 3",
   "language": "python",
   "name": "python3"
  },
  "language_info": {
   "codemirror_mode": {
    "name": "ipython",
    "version": 3
   },
   "file_extension": ".py",
   "mimetype": "text/x-python",
   "name": "python",
   "nbconvert_exporter": "python",
   "pygments_lexer": "ipython3",
   "version": "3.10.11"
  }
 },
 "nbformat": 4,
 "nbformat_minor": 2
}
