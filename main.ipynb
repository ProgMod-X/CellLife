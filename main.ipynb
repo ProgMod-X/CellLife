{
 "cells": [
  {
   "cell_type": "code",
   "execution_count": 3,
   "metadata": {},
   "outputs": [
    {
     "name": "stdout",
     "output_type": "stream",
     "text": [
      "[None, None, None, None, None, None, None]\n",
      "[None, None, None, None, None, None, None]\n",
      "[None, 0, None, None, None, None, 3]\n",
      "[1, None, 5, None, None, None, 4]\n",
      "[None, None, 6, None, 9, None, None]\n",
      "[None, None, None, None, None, None, None]\n",
      "[None, 7, None, None, None, None, 11]\n",
      "[None, None, None, None, None, 2, None]\n",
      "[None, None, None, None, None, None, None]\n",
      "[10, None, None, 8, None, None, None]\n"
     ]
    },
    {
     "data": {
      "application/vnd.jupyter.widget-view+json": {
       "model_id": "0580c2e07d7842f3b7e9fc903a47e33e",
       "version_major": 2,
       "version_minor": 0
      },
      "text/plain": [
       "Canvas(height=105, width=150)"
      ]
     },
     "metadata": {},
     "output_type": "display_data"
    },
    {
     "ename": "TypeError",
     "evalue": "cannot unpack non-iterable NoneType object",
     "output_type": "error",
     "traceback": [
      "\u001b[1;31m---------------------------------------------------------------------------\u001b[0m",
      "\u001b[1;31mTypeError\u001b[0m                                 Traceback (most recent call last)",
      "Cell \u001b[1;32mIn[3], line 87\u001b[0m\n\u001b[0;32m     85\u001b[0m \u001b[38;5;28;01melif\u001b[39;00m \u001b[38;5;28mtype\u001b[39m(entity) \u001b[38;5;241m==\u001b[39m Celle:\n\u001b[0;32m     86\u001b[0m     nabolag \u001b[38;5;241m=\u001b[39m get_nabolag(entity\u001b[38;5;241m.\u001b[39mpos_x, entity\u001b[38;5;241m.\u001b[39mpos_y, \u001b[38;5;241m2\u001b[39m)\n\u001b[1;32m---> 87\u001b[0m     x, y \u001b[38;5;241m=\u001b[39m entity\u001b[38;5;241m.\u001b[39mfinn_mål(nabolag)\n\u001b[0;32m     88\u001b[0m     \u001b[38;5;28;01mif\u001b[39;00m verd[x][y] \u001b[38;5;241m==\u001b[39m \u001b[38;5;28;01mNone\u001b[39;00m:\n\u001b[0;32m     89\u001b[0m         verd[entity\u001b[38;5;241m.\u001b[39mpos_x][entity\u001b[38;5;241m.\u001b[39mpos_y] \u001b[38;5;241m=\u001b[39m \u001b[38;5;28;01mNone\u001b[39;00m\n",
      "\u001b[1;31mTypeError\u001b[0m: cannot unpack non-iterable NoneType object"
     ]
    }
   ],
   "source": [
    "from ipycanvas import Canvas, hold_canvas\n",
    "from Klasser.celle import *\n",
    "from Klasser.busk import *\n",
    "import random\n",
    "\n",
    "\n",
    "# visual size of tiles\n",
    "tile_size = 15\n",
    "visual_space = 2\n",
    "rect_size = tile_size - visual_space\n",
    "\n",
    "# amount of tiles in each direction\n",
    "tiles_hori = 10\n",
    "tiles_vert = 7\n",
    "\n",
    "antal_celler  = 7\n",
    "start_energi = 10\n",
    "\n",
    "antal_busker = 5\n",
    "\n",
    "# Contains objects inhabiting the world\n",
    "entities = []\n",
    "\n",
    "# Create empty world, to contain references to cells\n",
    "verd = []\n",
    "for x in range(tiles_hori):\n",
    "    row = []\n",
    "    for y in range(tiles_vert):\n",
    "        row.append(None)\n",
    "    verd.append(row)\n",
    "\n",
    "# Populate world\n",
    "celler_igjen = antal_celler\n",
    "busker_igjen = antal_busker\n",
    "while celler_igjen > 0 or busker_igjen > 0:\n",
    "    x = random.randint(0, tiles_hori - 1)\n",
    "    y = random.randint(0, tiles_vert - 1)\n",
    "    while verd[x][y] != None:\n",
    "        x = random.randint(0, tiles_hori - 1)\n",
    "        y = random.randint(0, tiles_vert - 1)\n",
    "    if celler_igjen > 0:\n",
    "        new_cell = Celle(x, y, start_energi, [])\n",
    "        entities.append(new_cell)\n",
    "        verd[x][y] = len(entities) - 1\n",
    "        celler_igjen -= 1\n",
    "    else:\n",
    "        new_cell = Busk(x, y, 5, 5)\n",
    "        entities.append(new_cell)\n",
    "        verd[x][y] = len(entities) - 1\n",
    "        busker_igjen -= 1\n",
    "\n",
    "for _x in verd:\n",
    "        print(_x)\n",
    "\n",
    "# Canvas size\n",
    "width = tile_size * tiles_hori\n",
    "height = tile_size * tiles_vert\n",
    "\n",
    "canvas = Canvas(height = height, width = width)\n",
    "display(canvas)\n",
    "\n",
    "def draw_world():\n",
    "    # Draw grid\n",
    "    canvas.fill_style = \"gray\"\n",
    "    for x in range(tiles_hori):\n",
    "        for y in range(tiles_vert):\n",
    "            canvas.fill_rect(x * tile_size, y * tile_size, rect_size, rect_size)\n",
    "\n",
    "def get_nabolag(center_x, center_y, radius):\n",
    "    corner_x = max(0, center_x - radius)\n",
    "    corner_y = max(0, center_y - radius)\n",
    "\n",
    "    world_cols = verd[corner_x:corner_x + radius * 2 + 1]\n",
    "    nabolag = []\n",
    "    for col in world_cols:\n",
    "        sliced_col = col[corner_y: corner_y + radius * 2 + 1]\n",
    "        nabolag.append(sliced_col)\n",
    "    return nabolag\n",
    "\n",
    "#Løkke som repeterast til programmet er ferdig\n",
    "for i in range(100):\n",
    "    for entity in entities:\n",
    "        if type(entity) == Busk:\n",
    "            entity.veks()\n",
    "        elif type(entity) == Celle:\n",
    "            nabolag = get_nabolag(entity.pos_x, entity.pos_y, 2)\n",
    "            mål_x, mål_y = entity.finn_mål(nabolag)\n",
    "            beveg_x, beveg_y = entity.beveg(mål_x, mål_y)\n",
    "            # Move the cell towards its target if there isnt anything there\n",
    "            if verd[x][y] == None:\n",
    "                verd[entity.pos_x][entity.pos_y] = None\n",
    "                entity.pos_x = beveg_x\n",
    "                entity.pos_y = beveg_y\n",
    "                verd[x][y] = entity\n",
    "\n",
    "    # Draw everything\n",
    "    with hold_canvas():\n",
    "        draw_world()\n",
    "        for entity in entities:\n",
    "            entity.tegn()\n"
   ]
  }
 ],
 "metadata": {
  "kernelspec": {
   "display_name": "Python 3",
   "language": "python",
   "name": "python3"
  },
  "language_info": {
   "codemirror_mode": {
    "name": "ipython",
    "version": 3
   },
   "file_extension": ".py",
   "mimetype": "text/x-python",
   "name": "python",
   "nbconvert_exporter": "python",
   "pygments_lexer": "ipython3",
   "version": "3.10.11"
  }
 },
 "nbformat": 4,
 "nbformat_minor": 2
}
