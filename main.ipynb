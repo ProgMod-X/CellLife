{
 "cells": [
  {
   "cell_type": "code",
   "execution_count": 6,
   "metadata": {},
   "outputs": [
    {
     "name": "stdout",
     "output_type": "stream",
     "text": [
      "[None, None, None, <Klasser.busk.Busk object at 0x000002504A16EE10>, None, None, None]\n",
      "[None, None, None, None, None, None, <Klasser.celle.Celle object at 0x000002504A16CA50>]\n",
      "[<Klasser.celle.Celle object at 0x000002504A141B50>, <Klasser.celle.Celle object at 0x000002504A142590>, None, None, <Klasser.celle.Celle object at 0x000002504A16EE50>, None, <Klasser.celle.Celle object at 0x000002504A141590>]\n",
      "[None, None, None, None, None, None, None]\n",
      "[<Klasser.celle.Celle object at 0x000002504A14FCD0>, None, None, None, None, None, None]\n",
      "[None, <Klasser.busk.Busk object at 0x000002504A16CC90>, None, None, None, None, None]\n",
      "[None, None, None, <Klasser.busk.Busk object at 0x000002504A16CAD0>, <Klasser.busk.Busk object at 0x000002504A16E0D0>, None, None]\n",
      "[None, None, None, None, None, None, None]\n",
      "[None, None, <Klasser.busk.Busk object at 0x000002504A16C1D0>, None, None, <Klasser.celle.Celle object at 0x000002504A16C110>, None]\n",
      "[None, None, None, None, None, None, None]\n"
     ]
    },
    {
     "data": {
      "application/vnd.jupyter.widget-view+json": {
       "model_id": "3df84522875e4dafaa344220d46c943b",
       "version_major": 2,
       "version_minor": 0
      },
      "text/plain": [
       "Canvas(height=105, width=150)"
      ]
     },
     "metadata": {},
     "output_type": "display_data"
    }
   ],
   "source": [
    "from ipycanvas import Canvas, hold_canvas\n",
    "from Klasser.celle import *\n",
    "from Klasser.busk import *\n",
    "import random\n",
    "\n",
    "\n",
    "# visual size of tiles\n",
    "tile_size = 15\n",
    "visual_space = 2\n",
    "rect_size = tile_size - visual_space\n",
    "\n",
    "# amount of tiles in each direction\n",
    "tiles_hori = 10\n",
    "tiles_vert = 7\n",
    "\n",
    "antal_celler  = 7\n",
    "start_energi = 10\n",
    "\n",
    "antal_busker = 5\n",
    "\n",
    "# Create empty world, to contain references to cells\n",
    "verd = []\n",
    "for x in range(tiles_hori):\n",
    "    row = []\n",
    "    for y in range(tiles_vert):\n",
    "        row.append(None)\n",
    "    verd.append(row)\n",
    "\n",
    "# Populate world\n",
    "celler_igjen = antal_celler\n",
    "busker_igjen = antal_busker\n",
    "while celler_igjen > 0 or busker_igjen > 0:\n",
    "    x = random.randint(0, tiles_hori - 1)\n",
    "    y = random.randint(0, tiles_vert - 1)\n",
    "    while verd[x][y] != None:\n",
    "        x = random.randint(0, tiles_hori - 1)\n",
    "        y = random.randint(0, tiles_vert - 1)\n",
    "    if celler_igjen > 0:\n",
    "        verd[x][y] = Celle(x, y, start_energi, [])\n",
    "        celler_igjen -= 1\n",
    "    else:\n",
    "        verd[x][y] = Busk(5, 5)\n",
    "        busker_igjen -= 1\n",
    "\n",
    "for _x in verd:\n",
    "        print(_x)\n",
    "\n",
    "# Canvas size\n",
    "width = tile_size * tiles_hori\n",
    "height = tile_size * tiles_vert\n",
    "\n",
    "canvas = Canvas(height = height, width = width)\n",
    "display(canvas)\n",
    "\n",
    "def draw_world():\n",
    "    # Draw grid\n",
    "    canvas.fill_style = \"gray\"\n",
    "    for x in range(tiles_hori):\n",
    "        for y in range(tiles_vert):\n",
    "            canvas.fill_rect(x * tile_size, y * tile_size, rect_size, rect_size)\n",
    "\n",
    "\n",
    "with hold_canvas():\n",
    "    draw_world()"
   ]
  }
 ],
 "metadata": {
  "kernelspec": {
   "display_name": "Python 3",
   "language": "python",
   "name": "python3"
  },
  "language_info": {
   "codemirror_mode": {
    "name": "ipython",
    "version": 3
   },
   "file_extension": ".py",
   "mimetype": "text/x-python",
   "name": "python",
   "nbconvert_exporter": "python",
   "pygments_lexer": "ipython3",
   "version": "3.11.0"
  }
 },
 "nbformat": 4,
 "nbformat_minor": 2
}
