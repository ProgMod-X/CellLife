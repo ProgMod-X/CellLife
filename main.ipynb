{
 "cells": [
  {
   "cell_type": "code",
   "execution_count": 17,
   "metadata": {},
   "outputs": [
    {
     "name": "stdout",
     "output_type": "stream",
     "text": [
      "2 0\n",
      "[None, None, None]\n",
      "[None, None, None]\n",
      "[<Klasser.celle.Celle object at 0x0000027C24226F20>, None, None]\n",
      "0 1\n",
      "[None, <Klasser.celle.Celle object at 0x0000027C332DBD90>, None]\n",
      "[None, None, None]\n",
      "[<Klasser.celle.Celle object at 0x0000027C24226F20>, None, None]\n",
      "0 0\n",
      "[<Klasser.celle.Celle object at 0x0000027C332DBD30>, <Klasser.celle.Celle object at 0x0000027C332DBD90>, None]\n",
      "[None, None, None]\n",
      "[<Klasser.celle.Celle object at 0x0000027C24226F20>, None, None]\n",
      "2 2\n",
      "[<Klasser.celle.Celle object at 0x0000027C332DBD30>, <Klasser.celle.Celle object at 0x0000027C332DBD90>, None]\n",
      "[None, None, None]\n",
      "[<Klasser.celle.Celle object at 0x0000027C24226F20>, None, <Klasser.celle.Celle object at 0x0000027C332DBD60>]\n",
      "2 1\n",
      "[<Klasser.celle.Celle object at 0x0000027C332DBD30>, <Klasser.celle.Celle object at 0x0000027C332DBD90>, None]\n",
      "[None, None, None]\n",
      "[<Klasser.celle.Celle object at 0x0000027C24226F20>, <Klasser.celle.Celle object at 0x0000027C332DBE50>, <Klasser.celle.Celle object at 0x0000027C332DBD60>]\n",
      "1 2\n",
      "[<Klasser.celle.Celle object at 0x0000027C332DBD30>, <Klasser.celle.Celle object at 0x0000027C332DBD90>, None]\n",
      "[None, None, <Klasser.celle.Celle object at 0x0000027C332DAAA0>]\n",
      "[<Klasser.celle.Celle object at 0x0000027C24226F20>, <Klasser.celle.Celle object at 0x0000027C332DBE50>, <Klasser.celle.Celle object at 0x0000027C332DBD60>]\n",
      "0 1 <Klasser.celle.Celle object at 0x0000027C332DBD90>\n",
      "0 2\n",
      "[<Klasser.celle.Celle object at 0x0000027C332DBD30>, <Klasser.celle.Celle object at 0x0000027C332DBD90>, <Klasser.celle.Celle object at 0x0000027C332D86D0>]\n",
      "[None, None, <Klasser.celle.Celle object at 0x0000027C332DAAA0>]\n",
      "[<Klasser.celle.Celle object at 0x0000027C24226F20>, <Klasser.celle.Celle object at 0x0000027C332DBE50>, <Klasser.celle.Celle object at 0x0000027C332DBD60>]\n"
     ]
    },
    {
     "data": {
      "application/vnd.jupyter.widget-view+json": {
       "model_id": "58d4130845fa406cb2df2b40cb2c5c89",
       "version_major": 2,
       "version_minor": 0
      },
      "text/plain": [
       "Canvas(height=45, width=45)"
      ]
     },
     "metadata": {},
     "output_type": "display_data"
    }
   ],
   "source": [
    "from ipycanvas import Canvas, hold_canvas\n",
    "from Klasser.celle import *\n",
    "import random\n",
    "\n",
    "\n",
    "# visual size of tiles\n",
    "tile_size = 15\n",
    "visual_space = 2\n",
    "rect_size = tile_size - visual_space\n",
    "\n",
    "# amount of tiles in each direction\n",
    "tiles_hori = 10\n",
    "tiles_vert = 7\n",
    "\n",
    "antal_celler  = 7\n",
    "start_energi = 10\n",
    "\n",
    "# Create empty world, to contain references to cells\n",
    "verd = []\n",
    "for x in range(tiles_hori):\n",
    "    row = []\n",
    "    for y in range(tiles_vert):\n",
    "        row.append(None)\n",
    "    verd.append(row)\n",
    "\n",
    "# Populate world\n",
    "for i in range(0, antal_celler):\n",
    "    x = random.randint(0, tiles_hori - 1)\n",
    "    y = random.randint(0, tiles_vert - 1)\n",
    "    while verd[x][y] != None and verd:\n",
    "        print(x, y, verd[x][y])\n",
    "        x = random.randint(0, tiles_hori - 1)\n",
    "        y = random.randint(0, tiles_vert - 1)\n",
    "    print(x, y)\n",
    "    verd[x][y] = Celle(x, y, start_energi, [])\n",
    "    for _x in verd:\n",
    "        print(_x)\n",
    "\n",
    "# Canvas size\n",
    "width = tile_size * tiles_hori\n",
    "height = tile_size * tiles_vert\n",
    "\n",
    "canvas = Canvas(height = height, width = width)\n",
    "display(canvas)\n",
    "\n",
    "def draw_world():\n",
    "    # Draw grid\n",
    "    canvas.fill_style = \"gray\"\n",
    "    for x in range(tiles_hori):\n",
    "        for y in range(tiles_vert):\n",
    "            canvas.fill_rect(x * tile_size, y * tile_size, rect_size, rect_size)\n",
    "\n",
    "\n",
    "with hold_canvas():\n",
    "    draw_world()"
   ]
  }
 ],
 "metadata": {
  "kernelspec": {
   "display_name": "Python 3",
   "language": "python",
   "name": "python3"
  },
  "language_info": {
   "codemirror_mode": {
    "name": "ipython",
    "version": 3
   },
   "file_extension": ".py",
   "mimetype": "text/x-python",
   "name": "python",
   "nbconvert_exporter": "python",
   "pygments_lexer": "ipython3",
   "version": "3.10.11"
  }
 },
 "nbformat": 4,
 "nbformat_minor": 2
}
